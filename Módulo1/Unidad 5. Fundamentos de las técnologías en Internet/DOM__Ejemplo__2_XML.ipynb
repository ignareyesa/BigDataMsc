{
 "cells": [
  {
   "cell_type": "code",
   "execution_count": 1,
   "metadata": {},
   "outputs": [
    {
     "name": "stdout",
     "output_type": "stream",
     "text": [
      "title:  Noticias\n",
      "link:  http://misitio.com\n",
      "description:  Portal de Noticias de España\n",
      "---\n",
      "title:  Noticia 1\n",
      "link:  http://misitio.com/noticia1\n",
      "description:  Descripción de la noticia 1\n",
      "-----\n",
      "title:  Noticia 2\n",
      "link:  http://misitio.com/noticia2\n",
      "description:  Descripción de la noticia 2\n",
      "-----\n",
      "title:  Noticia 3\n",
      "link:  http://misitio.com/noticia3\n",
      "description:  Descripción de la noticia 3\n",
      "-----\n"
     ]
    }
   ],
   "source": [
    "import urllib\n",
    "import xml.dom\n",
    "from xml.dom.minidom import parse\n",
    "from urllib import request\n",
    "\n",
    "url = request.urlopen(\"https://raw.githubusercontent.com/ignareyesa/BigDataMsc/master/M%C3%B3dulo1/Unidad%205.%20Fundamentos%20de%20las%20t%C3%A9cnolog%C3%ADas%20en%20Internet/Datos/rss.xml\")\n",
    "arbol_dom = parse(url)\n",
    "\n",
    "titles = arbol_dom.getElementsByTagName(\"title\")[0]\n",
    "print(\"title: \", titles.firstChild.data)\n",
    "links = arbol_dom.getElementsByTagName(\"link\")[0]\n",
    "print(\"link: \", links.firstChild.data)\n",
    "descriptions = arbol_dom.getElementsByTagName(\"description\")[0]\n",
    "print(\"description: \", descriptions.firstChild.data)\n",
    "print(\"---\")\n",
    "\n",
    "items = arbol_dom.getElementsByTagName(\"item\")\n",
    "for item in items:\n",
    "    title = item.getElementsByTagName(\"title\")[0]\n",
    "    print(\"title: \",title.firstChild.data)\n",
    "    link = item.getElementsByTagName(\"link\")[0]\n",
    "    print(\"link: \",link.firstChild.data)\n",
    "    description = item.getElementsByTagName(\"description\")[0]\n",
    "    print(\"description: \",description.firstChild.data)\n",
    "    print(\"-----\")"
   ]
  },
  {
   "cell_type": "code",
   "execution_count": null,
   "metadata": {},
   "outputs": [],
   "source": []
  }
 ],
 "metadata": {
  "kernelspec": {
   "display_name": "Python 3",
   "language": "python",
   "name": "python3"
  },
  "language_info": {
   "codemirror_mode": {
    "name": "ipython",
    "version": 3
   },
   "file_extension": ".py",
   "mimetype": "text/x-python",
   "name": "python",
   "nbconvert_exporter": "python",
   "pygments_lexer": "ipython3",
   "version": "3.8.3"
  }
 },
 "nbformat": 4,
 "nbformat_minor": 4
}
