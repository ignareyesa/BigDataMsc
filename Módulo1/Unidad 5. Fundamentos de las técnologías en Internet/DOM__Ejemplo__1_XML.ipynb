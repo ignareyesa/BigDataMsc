{
 "cells": [
  {
   "cell_type": "code",
   "execution_count": 44,
   "metadata": {},
   "outputs": [
    {
     "name": "stdout",
     "output_type": "stream",
     "text": [
      "isbn:  0-596-00128-2\n",
      "título:  Python y XML\n",
      "fecha:  Diciembre 2001\n",
      "autor:  Pepito Perez\n",
      "\n",
      "\n",
      "isbn:  0-596-15810-6\n",
      "título:  Programacion avanzada de XML\n",
      "fecha:  Octoubre 2010\n",
      "autor:  Juan Garcia\n",
      "\n",
      "\n",
      "isbn:  0-596-15806-8\n",
      "título:  Aprendiendo Java\n",
      "fecha:  Septiembre 2009\n",
      "autor:  Juan Garcia\n",
      "\n",
      "\n",
      "isbn:  0-596-15808-4\n",
      "título:  Python para moviles\n",
      "fecha:  Octubre 2009\n",
      "autor:  Pepito Perez\n",
      "\n",
      "\n",
      "isbn:  0-596-00797-3\n",
      "título:  R para estadistica\n",
      "fecha:  Marzo 2005\n",
      "autor:  Juan\n",
      "autor:  Pepe\n",
      "autor:  Isabel\n",
      "\n",
      "\n",
      "isbn:  0-596-10046-9\n",
      "título:  Python en 100 paginas\n",
      "fecha:  Julio 2006\n",
      "autor:  Julia\n",
      "\n",
      "\n"
     ]
    }
   ],
   "source": [
    "import urllib\n",
    "import xml.dom\n",
    "from xml.dom.minidom import parse\n",
    "from urllib import request\n",
    "\n",
    "#lectura online\n",
    "url = request.urlopen(\"https://raw.githubusercontent.com/ignareyesa/BigDataMsc/master/M%C3%B3dulo1/Unidad%205.%20Fundamentos%20de%20las%20t%C3%A9cnolog%C3%ADas%20en%20Internet/Datos/datos.xml\")\n",
    "arbol_dom = parse(url)\n",
    "#lectura local\n",
    "#arbol_dom = parse(\"datos.xml\")\n",
    "\n",
    "\n",
    "libros = arbol_dom.getElementsByTagName(\"Libro\")\n",
    "for libro in libros:\n",
    "    isbn = libro.getAttribute(\"isbn\")\n",
    "    print(\"isbn: \", isbn)\n",
    "    titulo = libro.getElementsByTagName(\"titulo\")[0]\n",
    "    print(\"título: \", titulo.firstChild.data)\n",
    "    fecha = libro.getElementsByTagName(\"fecha\")[0]\n",
    "    print(\"fecha: \", fecha.firstChild.data)\n",
    "    autores = libro.getElementsByTagName(\"autor\")\n",
    "    for autor in autores:\n",
    "        print(\"autor: \", autor.firstChild.data)\n",
    "    print(\"\\n\")"
   ]
  }
 ],
 "metadata": {
  "kernelspec": {
   "display_name": "Python 3",
   "language": "python",
   "name": "python3"
  },
  "language_info": {
   "codemirror_mode": {
    "name": "ipython",
    "version": 3
   },
   "file_extension": ".py",
   "mimetype": "text/x-python",
   "name": "python",
   "nbconvert_exporter": "python",
   "pygments_lexer": "ipython3",
   "version": "3.8.3"
  }
 },
 "nbformat": 4,
 "nbformat_minor": 4
}
